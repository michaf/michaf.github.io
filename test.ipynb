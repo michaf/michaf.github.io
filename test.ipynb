{
 "metadata": {
  "name": "",
  "signature": "sha256:208a64c8639b6e8fcbf2fe47f4ea9c2c9d308f47fb61f3f0ca67fc1d4ccc8670"
 },
 "nbformat": 3,
 "nbformat_minor": 0,
 "worksheets": [
  {
   "cells": [
    {
     "cell_type": "code",
     "collapsed": false,
     "input": [
      "print \"This is a test\"\n",
      "print 1+1"
     ],
     "language": "python",
     "metadata": {},
     "outputs": [
      {
       "output_type": "stream",
       "stream": "stdout",
       "text": [
        "This is a test\n",
        "2\n"
       ]
      }
     ],
     "prompt_number": 1
    },
    {
     "cell_type": "code",
     "collapsed": false,
     "input": [],
     "language": "python",
     "metadata": {},
     "outputs": []
    }
   ],
   "metadata": {}
  }
 ]
}